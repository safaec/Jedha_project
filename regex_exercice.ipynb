{
  "nbformat": 4,
  "nbformat_minor": 0,
  "metadata": {
    "colab": {
      "provenance": [],
      "authorship_tag": "ABX9TyPi8xo04TDB8YKR3G7b/swr",
      "include_colab_link": true
    },
    "kernelspec": {
      "name": "python3",
      "display_name": "Python 3"
    },
    "language_info": {
      "name": "python"
    }
  },
  "cells": [
    {
      "cell_type": "markdown",
      "metadata": {
        "id": "view-in-github",
        "colab_type": "text"
      },
      "source": [
        "<a href=\"https://colab.research.google.com/github/safaec/Jedha_project/blob/main/regex_exercice.ipynb\" target=\"_parent\"><img src=\"https://colab.research.google.com/assets/colab-badge.svg\" alt=\"Open In Colab\"/></a>"
      ]
    },
    {
      "cell_type": "code",
      "source": [
        "import re"
      ],
      "metadata": {
        "id": "dOqLfWzmwMp8"
      },
      "execution_count": null,
      "outputs": []
    },
    {
      "cell_type": "code",
      "source": [
        "#find a floating number\n",
        "\n",
        "T = int(input())\n",
        "\n",
        "for i in range(T):\n",
        "\n",
        "  match = re.fullmatch(r'^[+\\-]?\\d*\\.\\d+', input())\n",
        "\n",
        "  if match:\n",
        "      print('True')\n",
        "  else:\n",
        "      print('False')"
      ],
      "metadata": {
        "colab": {
          "base_uri": "https://localhost:8080/"
        },
        "id": "0LMms8T85rS9",
        "outputId": "f9268f15-2f05-4f09-b668-4f2ccec2e4be"
      },
      "execution_count": null,
      "outputs": [
        {
          "output_type": "stream",
          "name": "stdout",
          "text": [
            "2\n",
            "12.0\n",
            "True\n",
            ".43\n",
            "True\n"
          ]
        }
      ]
    },
    {
      "cell_type": "code",
      "source": [
        "#split a string\n",
        "\n",
        "regex = re.split(r'[,.]', input())\n",
        "for i in regex:\n",
        "  print(i)"
      ],
      "metadata": {
        "colab": {
          "base_uri": "https://localhost:8080/"
        },
        "id": "mEbzqfKv6ADJ",
        "outputId": "7f30df63-ba60-4983-b8c3-ef3d33cc1c3a"
      },
      "execution_count": null,
      "outputs": [
        {
          "output_type": "stream",
          "name": "stdout",
          "text": [
            "100,32.4\n",
            "100\n",
            "32\n",
            "4\n"
          ]
        }
      ]
    },
    {
      "cell_type": "code",
      "source": [
        "#find the second digit\n",
        "i = re.findall(r'[a-zA-Z0-9]', input())\n",
        "\n",
        "print(i[1])"
      ],
      "metadata": {
        "colab": {
          "base_uri": "https://localhost:8080/"
        },
        "id": "0NIe74XawYOu",
        "outputId": "712398a6-f722-48d1-d4ed-e64898fa6ada"
      },
      "execution_count": null,
      "outputs": [
        {
          "output_type": "stream",
          "name": "stdout",
          "text": [
            "12341\n",
            "2\n"
          ]
        }
      ]
    },
    {
      "cell_type": "code",
      "source": [
        "#find the repetitive numbers\n",
        "a = re.findall(r'(\\w)\\1', input())\n",
        "print(a)"
      ],
      "metadata": {
        "colab": {
          "base_uri": "https://localhost:8080/"
        },
        "id": "uORv6AAQyoGK",
        "outputId": "5fcb697a-0610-4541-8f07-85c84027dec2"
      },
      "execution_count": null,
      "outputs": [
        {
          "output_type": "stream",
          "name": "stdout",
          "text": [
            "1234110933\n",
            "['1', '3']\n"
          ]
        }
      ]
    },
    {
      "cell_type": "code",
      "source": [
        "#find the repetitive numbers\n",
        "match = re.search(r'(\\w)\\1', input())\n",
        "\n",
        "if match:\n",
        "    print(match.group()) "
      ],
      "metadata": {
        "colab": {
          "base_uri": "https://localhost:8080/"
        },
        "id": "xeJU0YIp1gMf",
        "outputId": "489c8a87-ce6f-4436-a9d7-c8897a19bebf"
      },
      "execution_count": null,
      "outputs": [
        {
          "output_type": "stream",
          "name": "stdout",
          "text": [
            "1234110933\n",
            "11\n"
          ]
        }
      ]
    },
    {
      "cell_type": "code",
      "source": [
        "#find the repetitive numbers\n",
        "match = re.search(r'(\\w)\\1', input())\n",
        "\n",
        "if match:\n",
        "    print(match.group(1)) "
      ],
      "metadata": {
        "colab": {
          "base_uri": "https://localhost:8080/"
        },
        "id": "5iqXKib0SQ7D",
        "outputId": "1821fd93-709f-40d0-a85e-3f705cc673ef"
      },
      "execution_count": null,
      "outputs": [
        {
          "output_type": "stream",
          "name": "stdout",
          "text": [
            "1234110933\n",
            "1\n"
          ]
        }
      ]
    },
    {
      "cell_type": "code",
      "source": [
        "#lookahaed assertion\n",
        "match = re.search(r'foo(?=bar)', input())\n",
        "print(match.group())"
      ],
      "metadata": {
        "colab": {
          "base_uri": "https://localhost:8080/"
        },
        "id": "Kx-_0vBSRRGz",
        "outputId": "f39cb811-8dc9-4317-bc83-53e51ae866d1"
      },
      "execution_count": null,
      "outputs": [
        {
          "output_type": "stream",
          "name": "stdout",
          "text": [
            "foobarbaz\n",
            "foo\n"
          ]
        }
      ]
    }
  ]
}
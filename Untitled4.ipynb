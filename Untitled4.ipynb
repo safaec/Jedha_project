{
  "nbformat": 4,
  "nbformat_minor": 0,
  "metadata": {
    "colab": {
      "provenance": [],
      "authorship_tag": "ABX9TyM5nfhlrO28ceti9meOXd52",
      "include_colab_link": true
    },
    "kernelspec": {
      "name": "python3",
      "display_name": "Python 3"
    },
    "language_info": {
      "name": "python"
    }
  },
  "cells": [
    {
      "cell_type": "markdown",
      "metadata": {
        "id": "view-in-github",
        "colab_type": "text"
      },
      "source": [
        "<a href=\"https://colab.research.google.com/github/safaec/Jedha_project/blob/main/Untitled4.ipynb\" target=\"_parent\"><img src=\"https://colab.research.google.com/assets/colab-badge.svg\" alt=\"Open In Colab\"/></a>"
      ]
    },
    {
      "cell_type": "code",
      "execution_count": 1,
      "metadata": {
        "id": "-StAxt1vER3n"
      },
      "outputs": [],
      "source": [
        "class Employee:\n",
        "  \n",
        "  def set_name(self, new_name):\n",
        "    self.name = new_name\n",
        "\n",
        "# Create an object emp of class Employee  \n",
        "emp = Employee()\n",
        "\n",
        "# Use set_name to set the name of emp to 'Korel Rossi'\n",
        "emp.set_name('Korel Rossi')"
      ]
    },
    {
      "cell_type": "code",
      "source": [
        "class Garage():\n",
        "  \n",
        "  def __init__(self):\n",
        "        self.employees = 0\n",
        "        self.clients = 0\n",
        "#here you can not change the default value, it is 0 "
      ],
      "metadata": {
        "colab": {
          "base_uri": "https://localhost:8080/",
          "height": 208
        },
        "id": "gi7FbfGjN8wA",
        "outputId": "b8fe92c4-0f7c-41b3-a880-6fbc6519ef23"
      },
      "execution_count": 16,
      "outputs": [
        {
          "output_type": "error",
          "ename": "TypeError",
          "evalue": "ignored",
          "traceback": [
            "\u001b[0;31m---------------------------------------------------------------------------\u001b[0m",
            "\u001b[0;31mTypeError\u001b[0m                                 Traceback (most recent call last)",
            "\u001b[0;32m<ipython-input-16-cdaf223c14ac>\u001b[0m in \u001b[0;36m<cell line: 6>\u001b[0;34m()\u001b[0m\n\u001b[1;32m      4\u001b[0m         \u001b[0mself\u001b[0m\u001b[0;34m.\u001b[0m\u001b[0mclients\u001b[0m \u001b[0;34m=\u001b[0m \u001b[0;36m0\u001b[0m\u001b[0;34m\u001b[0m\u001b[0;34m\u001b[0m\u001b[0m\n\u001b[1;32m      5\u001b[0m \u001b[0;34m\u001b[0m\u001b[0m\n\u001b[0;32m----> 6\u001b[0;31m \u001b[0mgarage2\u001b[0m \u001b[0;34m=\u001b[0m \u001b[0mGarage\u001b[0m\u001b[0;34m(\u001b[0m\u001b[0;36m4\u001b[0m\u001b[0;34m,\u001b[0m \u001b[0;36m2\u001b[0m\u001b[0;34m)\u001b[0m\u001b[0;34m\u001b[0m\u001b[0;34m\u001b[0m\u001b[0m\n\u001b[0m\u001b[1;32m      7\u001b[0m \u001b[0;31m#here you can not change the default value, it is 0\u001b[0m\u001b[0;34m\u001b[0m\u001b[0;34m\u001b[0m\u001b[0m\n",
            "\u001b[0;31mTypeError\u001b[0m: __init__() takes 1 positional argument but 3 were given"
          ]
        }
      ]
    },
    {
      "cell_type": "code",
      "source": [
        "class Garage():\n",
        "\n",
        "    # Here, default arguments have been added, but you can change them\n",
        "    def __init__(self, employees = 0, clients = 0, cars_to_repair = 0, cars_repaired = 0):\n",
        "        self.employees = employees\n",
        "        self.clients = clients\n",
        "        self.cars_to_repair = cars_to_repair\n",
        "        self.cars_repaired = cars_repaired"
      ],
      "metadata": {
        "colab": {
          "base_uri": "https://localhost:8080/"
        },
        "id": "9Hj1g6QspZLt",
        "outputId": "cf72e454-bf3f-46ab-e7fe-4599de2d9a66"
      },
      "execution_count": 14,
      "outputs": [
        {
          "output_type": "execute_result",
          "data": {
            "text/plain": [
              "0"
            ]
          },
          "metadata": {},
          "execution_count": 14
        }
      ]
    },
    {
      "cell_type": "code",
      "source": [
        "  class Garage():\n",
        "  \n",
        "  def __init__(self, employees, clients):\n",
        "        self.employees = 0\n",
        "        self.clients = 0\n",
        "\n",
        "  #no need to put employees and clients as parameters because you can not change them"
      ],
      "metadata": {
        "id": "-ohCbDKXpZBK"
      },
      "execution_count": null,
      "outputs": []
    }
  ]
}
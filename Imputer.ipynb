{
  "cells": [
    {
      "cell_type": "markdown",
      "metadata": {
        "id": "view-in-github",
        "colab_type": "text"
      },
      "source": [
        "<a href=\"https://colab.research.google.com/github/safaec/Jedha_project/blob/main/Imputer.ipynb\" target=\"_parent\"><img src=\"https://colab.research.google.com/assets/colab-badge.svg\" alt=\"Open In Colab\"/></a>"
      ]
    },
    {
      "cell_type": "markdown",
      "metadata": {
        "id": "6cqYL_Y0rfoH"
      },
      "source": [
        "# Imputer"
      ]
    },
    {
      "cell_type": "markdown",
      "metadata": {
        "id": "sB61JRG-rj6v"
      },
      "source": [
        "_In data science, it's common for there to be missing values in a dataset. Let's see how we can create a class that will allow us to replace this missing value by the average of the values in the list_"
      ]
    },
    {
      "cell_type": "markdown",
      "metadata": {
        "id": "nvclKDGOrlV3"
      },
      "source": [
        "1. _Create a class that we will call Imputer_.\n",
        "2. _To simplify the exercise, we will only deal with lists for the moment._\n",
        "3. _Our class will take an attribute that we will call list_.\n",
        "4. _Create an avg() function that will first remove the missing value and then replace it with the average of the list._"
      ]
    },
    {
      "cell_type": "code",
      "source": [
        "import numpy as np\n",
        "\n",
        "class Imputer:\n",
        "\n",
        "  def __init__ (self, lis):\n",
        "    self.lis = lis\n",
        "    print(\"Here's my initial list {}\".format(lis))\n",
        "\n",
        "\n",
        "  def ave (self):\n",
        "    aver = np.nanmean(self.lis)\n",
        "    new_lis = np.nan_to_num(self.lis, nan=aver)\n",
        "    print(\"Here is my list after imputer : {}\".format(new_lis))\n",
        "\n"
      ],
      "metadata": {
        "id": "6Qh7YluD907c"
      },
      "execution_count": 17,
      "outputs": []
    },
    {
      "cell_type": "code",
      "source": [
        "l = Imputer([np.nan, 2, 4, 6, np.nan])\n",
        "l.ave()"
      ],
      "metadata": {
        "colab": {
          "base_uri": "https://localhost:8080/"
        },
        "id": "d-o75JLnC72v",
        "outputId": "d49cbda8-6fd8-4e0a-f8ba-0fc340b723c8"
      },
      "execution_count": 18,
      "outputs": [
        {
          "output_type": "stream",
          "name": "stdout",
          "text": [
            "Here's my initial list [nan, 2, 4, 6, nan]\n",
            "Here is my list after imputer : [4. 2. 4. 6. 4.]\n"
          ]
        }
      ]
    },
    {
      "cell_type": "markdown",
      "metadata": {
        "id": "bc7K3aMYr9uH"
      },
      "source": [
        "# OPTIONAL - Improve Imputer\n",
        "\n",
        "_We have created our Imputer class which works very well for replacing missing values with averages. But, couldn't we also use this class to replace with a median? Try to add a method in Imputer that will allow us to replace the list with either the average or the median._"
      ]
    },
    {
      "cell_type": "code",
      "metadata": {
        "id": "vWlNZ5nDrqPa"
      },
      "source": [
        "import numpy as np\n",
        "\n",
        "class Imputer:\n",
        "\n",
        "  def ave (self, lis):\n",
        "    aver = np.nanmean(lis)\n",
        "    new_lis = np.nan_to_num(lis, nan=aver)\n",
        "    print(\"Here is a list : {}\".format(lis))\n",
        "    print(\"Here is the list with the empty values replaced by the average value : {}\".format(new_lis))\n",
        "\n",
        "  def med (self, lis):\n",
        "    med = np.nanmedian(lis)\n",
        "    new_lis = np.nan_to_num(lis, nan=med)\n",
        "    print(\"Here is a list : {}\".format(lis))\n",
        "    print(\"Here is the list with the empty values replaced by the median : {}\".format(new_lis))"
      ],
      "execution_count": 29,
      "outputs": []
    },
    {
      "cell_type": "code",
      "source": [
        "a = Imputer()\n",
        "b = Imputer()\n",
        "\n",
        "a.ave([np.nan, 2, 3, 12, 5, 6, np.nan])\n",
        "b.med([np.nan, 2, 3, 12, 5, 6, np.nan])"
      ],
      "metadata": {
        "colab": {
          "base_uri": "https://localhost:8080/"
        },
        "id": "IMRPfVWROc33",
        "outputId": "d9bac426-f98b-4e8d-b1ff-d5af8c814a85"
      },
      "execution_count": 30,
      "outputs": [
        {
          "output_type": "stream",
          "name": "stdout",
          "text": [
            "Here is a list : [nan, 2, 3, 12, 5, 6, nan]\n",
            "Here is the list with the empty values replaced by the average value : [ 5.6  2.   3.  12.   5.   6.   5.6]\n",
            "Here is a list : [nan, 2, 3, 12, 5, 6, nan]\n",
            "Here is the list with the empty values replaced by the median : [ 5.  2.  3. 12.  5.  6.  5.]\n"
          ]
        }
      ]
    },
    {
      "cell_type": "code",
      "source": [
        "Here is a list : [None, 2, 3, 12, 5, 6, None]\n",
        "Here is the list with the empty values replaced by the average value : [5.6, 2, 3, 12, 5, 6, 5.6]\n",
        "Here is a list : [None, 2, 3, 12, 5, 6, None]\n",
        "Here is the list with the empty values replaced by the median : [5, 2, 3, 12, 5, 6, 5]"
      ],
      "metadata": {
        "id": "HagPfOTIOaq3"
      },
      "execution_count": null,
      "outputs": []
    }
  ],
  "metadata": {
    "colab": {
      "provenance": [],
      "include_colab_link": true
    },
    "kernelspec": {
      "name": "python3",
      "display_name": "Python 3"
    }
  },
  "nbformat": 4,
  "nbformat_minor": 0
}
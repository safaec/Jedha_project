{
  "nbformat": 4,
  "nbformat_minor": 0,
  "metadata": {
    "colab": {
      "provenance": [],
      "authorship_tag": "ABX9TyPWgyEH4ll/7YMlGBFi2auh",
      "include_colab_link": true
    },
    "kernelspec": {
      "name": "python3",
      "display_name": "Python 3"
    },
    "language_info": {
      "name": "python"
    }
  },
  "cells": [
    {
      "cell_type": "markdown",
      "metadata": {
        "id": "view-in-github",
        "colab_type": "text"
      },
      "source": [
        "<a href=\"https://colab.research.google.com/github/safaec/Jedha_project/blob/main/Build_a_quiz.ipynb\" target=\"_parent\"><img src=\"https://colab.research.google.com/assets/colab-badge.svg\" alt=\"Open In Colab\"/></a>"
      ]
    },
    {
      "cell_type": "code",
      "source": [
        "name = 'safae'\n",
        "lastname = 'chg'\n",
        "job = 'coding'\n",
        "\n",
        "i=3\n",
        "\n",
        "while i>0:\n",
        "\n",
        "  question_1 = input('What is her name ? ')\n",
        "\n",
        "  if question_1 == name:\n",
        "    print('Yes, next question')\n",
        "    break\n",
        "  else :\n",
        "    i -=1\n",
        "    if i==0:\n",
        "      print(\"You lost the game\")\n",
        "      break\n",
        "    else:\n",
        "      print('wrong answer')\n",
        "      print('You have {} chances left'.format(i))\n",
        "\n",
        "\n",
        "\n",
        "while i>0:\n",
        "\n",
        "  question_2 = input('What is her lastname ? ')\n",
        "\n",
        "  if question_2 == lastname:\n",
        "    print('Yes, next question')\n",
        "    break\n",
        "  else :\n",
        "    i -=1\n",
        "    if i==0:\n",
        "      print(\"You lost the game\")\n",
        "      break\n",
        "    else:\n",
        "      print('wrong answer')\n",
        "      print('You have {} chances left'.format(i))\n",
        "\n",
        "\n",
        "while i>0:\n",
        "\n",
        "  question_3 = input('What is her job ? ')\n",
        "\n",
        "  if question_3 == job:\n",
        "    print('You win the game)\n",
        "    break\n",
        "  else :\n",
        "    i -=1\n",
        "    if i==0:\n",
        "      print(\"You lost the game\")\n",
        "      break\n",
        "    else:\n",
        "      print('wrong answer')\n",
        "      print('You have {} chances left'.format(i))"
      ],
      "metadata": {
        "colab": {
          "base_uri": "https://localhost:8080/"
        },
        "id": "wkfy6aRLs619",
        "outputId": "6ed44f47-bcc3-4a79-f88f-7b4a0c24d4d2"
      },
      "execution_count": 4,
      "outputs": [
        {
          "output_type": "stream",
          "name": "stdout",
          "text": [
            "What is her name ? safae\n",
            "Yes, next question\n",
            "What is her lastname ? c\n",
            "wrong answer\n",
            "You have 2 chances left\n",
            "What is her lastname ? j\n",
            "wrong answer\n",
            "You have 1 chances left\n",
            "What is her lastname ? chg\n",
            "Yes, next question\n",
            "What is her job ? coding\n",
            "Yes, next question\n"
          ]
        }
      ]
    }
  ]
}
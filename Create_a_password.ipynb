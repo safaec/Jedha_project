{
  "nbformat": 4,
  "nbformat_minor": 0,
  "metadata": {
    "colab": {
      "provenance": [],
      "authorship_tag": "ABX9TyMSY5+G9o55XKEekyHZVStJ",
      "include_colab_link": true
    },
    "kernelspec": {
      "name": "python3",
      "display_name": "Python 3"
    },
    "language_info": {
      "name": "python"
    }
  },
  "cells": [
    {
      "cell_type": "markdown",
      "metadata": {
        "id": "view-in-github",
        "colab_type": "text"
      },
      "source": [
        "<a href=\"https://colab.research.google.com/github/safaec/Jedha_project/blob/main/Create_a_password.ipynb\" target=\"_parent\"><img src=\"https://colab.research.google.com/assets/colab-badge.svg\" alt=\"Open In Colab\"/></a>"
      ]
    },
    {
      "cell_type": "code",
      "source": [
        "password= input('create the password : ')"
      ],
      "metadata": {
        "id": "H3ZKKjdwYYmk"
      },
      "execution_count": null,
      "outputs": []
    },
    {
      "cell_type": "code",
      "source": [
        "enter = input('enter the password : ')\n",
        "\n",
        "if enter == password :\n",
        "  print('You have the right password! : ')\n",
        "else :\n",
        "    print('You do not have the right password! : ')"
      ],
      "metadata": {
        "colab": {
          "base_uri": "https://localhost:8080/"
        },
        "id": "qul47b8tWBS2",
        "outputId": "7ce8dfa9-dcfd-4561-af1e-77a00efe58da"
      },
      "execution_count": 14,
      "outputs": [
        {
          "output_type": "stream",
          "name": "stdout",
          "text": [
            "create the passwordsafae\n",
            "enter the passwordsafae\n",
            "You have the right password!\n"
          ]
        }
      ]
    },
    {
      "cell_type": "code",
      "source": [
        "enter = input('enter the password :')\n",
        "\n",
        "while enter != password:\n",
        "  print('You do not have the right password! : ')\n",
        "  enter = input('enter the password :')\n",
        "\n",
        "print('You have the right password!')"
      ],
      "metadata": {
        "colab": {
          "base_uri": "https://localhost:8080/"
        },
        "id": "IlJDBrueXPM5",
        "outputId": "d99dfb5b-05a8-4490-cbde-ea064a3b8e32"
      },
      "execution_count": 24,
      "outputs": [
        {
          "output_type": "stream",
          "name": "stdout",
          "text": [
            "enter the password :safae\n",
            "You have the right password!\n"
          ]
        }
      ]
    },
    {
      "cell_type": "code",
      "source": [
        "for i in range (0,3):\n",
        "\n",
        "  print('you have {} chances to guess the password'.format (3-i))\n",
        "\n",
        "  enter = input('enter the password : ')\n",
        "\n",
        "  if enter == password :\n",
        "    print('You have the right password!')\n",
        "    break\n",
        "  else :\n",
        "      print('You do not have the right password! : ')\n",
        "      if i == 2 :\n",
        "        print('No more chance')"
      ],
      "metadata": {
        "colab": {
          "base_uri": "https://localhost:8080/"
        },
        "id": "zrxpGvc8Y_qF",
        "outputId": "11ea93f0-ddd7-4cca-89b6-8d5d45507560"
      },
      "execution_count": 20,
      "outputs": [
        {
          "output_type": "stream",
          "name": "stdout",
          "text": [
            "you have 3 chances to guess the password\n",
            "enter the password : sa\n",
            "You do not have the right password! : \n",
            "you have 2 chances to guess the password\n",
            "enter the password : ge\n",
            "You do not have the right password! : \n",
            "you have 1 chances to guess the password\n",
            "enter the password : safae\n",
            "You have the right password! : \n"
          ]
        }
      ]
    }
  ]
}
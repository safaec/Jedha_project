{
  "cells": [
    {
      "cell_type": "markdown",
      "metadata": {
        "id": "view-in-github",
        "colab_type": "text"
      },
      "source": [
        "<a href=\"https://colab.research.google.com/github/safaec/Jedha_project/blob/main/Math_oriented_programming.ipynb\" target=\"_parent\"><img src=\"https://colab.research.google.com/assets/colab-badge.svg\" alt=\"Open In Colab\"/></a>"
      ]
    },
    {
      "cell_type": "markdown",
      "metadata": {
        "id": "ARXMbV_Vp5qc"
      },
      "source": [
        "# Mathematically Oriented Programming"
      ]
    },
    {
      "cell_type": "markdown",
      "metadata": {
        "id": "1JYqlALqp73y"
      },
      "source": [
        "_Mathematics, in general, we don't like to do it. Especially when it involves repeating operations, over and over again. Let's be real lazy and create a class that will do the operations we want for us._"
      ]
    },
    {
      "cell_type": "markdown",
      "metadata": {
        "id": "Lc3ol0PSp98l"
      },
      "source": [
        "1. _Create a class to be called \"math.\"_\n",
        "2. _This class will have no internal attributes, so you don't need to define an init() _\n",
        "3. _Create a method that will compute the square root of any number._\n",
        "4. _Create a method that will calculate the average of any list of numbers._\n",
        "5. _Create a method to find out if a number is even or odd_.\n",
        "6. _Finally, create a method that will give the total sum of a list of numbers._\n"
      ]
    },
    {
      "cell_type": "code",
      "source": [
        "class Math :\n",
        "    \n",
        "  def aver (self, lis):\n",
        "    aver = sum(lis)/len(lis)\n",
        "    print ('the average of {} is {}'.format(lis ,aver))\n",
        "    return aver\n",
        "\n",
        "  def sq (self, number):\n",
        "    sq = number**2\n",
        "    print ('the square root of {} is {}'.format(number ,sq))\n",
        "    return sq\n",
        "\n",
        "  def totsum (self, lisnum):\n",
        "    totsum = sum(lisnum)\n",
        "    print(\"sum of {} is {}\".format(lisnum, totsum))\n",
        "    return totsum\n",
        "\n",
        "\n",
        "  def odd (self, num):\n",
        "    if (num%2)==0:\n",
        "      print(\"{} is even\".format(num))\n",
        "    else :\n",
        "      print(\"{} is odd\".format(num))"
      ],
      "metadata": {
        "id": "jbuHwE_0oG2A"
      },
      "execution_count": 38,
      "outputs": []
    },
    {
      "cell_type": "code",
      "source": [
        "m = Math()\n",
        "m.aver([1, 6, 8])\n",
        "m.sq(4)\n",
        "m.odd(5)\n",
        "m.totsum([1, 6, 8])"
      ],
      "metadata": {
        "colab": {
          "base_uri": "https://localhost:8080/"
        },
        "id": "CIhCGV-f0VFf",
        "outputId": "0efb6766-3ea1-438b-e662-2f4c7dd5da6c"
      },
      "execution_count": 39,
      "outputs": [
        {
          "output_type": "stream",
          "name": "stdout",
          "text": [
            "the average of [1, 6, 8] is 5.0\n",
            "the square root of 4 is 16\n",
            "5 is odd\n",
            "sum of [1, 6, 8] is 15\n"
          ]
        }
      ]
    }
  ],
  "metadata": {
    "colab": {
      "provenance": [],
      "include_colab_link": true
    },
    "kernelspec": {
      "name": "python3",
      "display_name": "Python 3"
    }
  },
  "nbformat": 4,
  "nbformat_minor": 0
}
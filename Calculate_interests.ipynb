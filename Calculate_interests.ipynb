{
  "nbformat": 4,
  "nbformat_minor": 0,
  "metadata": {
    "colab": {
      "provenance": [],
      "authorship_tag": "ABX9TyPFChnenwV/0sg3eDNYKJH2",
      "include_colab_link": true
    },
    "kernelspec": {
      "name": "python3",
      "display_name": "Python 3"
    },
    "language_info": {
      "name": "python"
    }
  },
  "cells": [
    {
      "cell_type": "markdown",
      "metadata": {
        "id": "view-in-github",
        "colab_type": "text"
      },
      "source": [
        "<a href=\"https://colab.research.google.com/github/safaec/Jedha_project/blob/main/Calculate_interests.ipynb\" target=\"_parent\"><img src=\"https://colab.research.google.com/assets/colab-badge.svg\" alt=\"Open In Colab\"/></a>"
      ]
    },
    {
      "cell_type": "markdown",
      "source": [
        "So let's create a function that will allow us to know how much money a user will have in total after a certain number of years."
      ],
      "metadata": {
        "id": "lcmGQccqS9xf"
      }
    },
    {
      "cell_type": "code",
      "execution_count": 43,
      "metadata": {
        "id": "LXmcRQLPS2zA"
      },
      "outputs": [],
      "source": [
        "def interet (deposit, rates, years):\n",
        "  result = deposit * rates * years\n",
        "  return result"
      ]
    },
    {
      "cell_type": "code",
      "source": [
        "def interet (deposit, rates, years):\n",
        "\n",
        "  try:\n",
        "    deposit = int(input('What amount you will deposit ? : '))\n",
        "    rates= int(input('at what rate ? : '))\n",
        "    years= int(input('for how many years ? : '))\n",
        "\n",
        "    if (deposit<=0) or (rates<=0) or (years<=0):\n",
        "      raise ValueError(\"enter a positif\")\n",
        "\n",
        "  except ValueError as e :\n",
        "    print(\"error\", e)\n",
        "\n",
        "  else :\n",
        "    print('The total amount of money you will have after you deposit {} at the end of {} years will be {} €'.format(deposit, years, interet (deposit, rates, years)))"
      ],
      "metadata": {
        "id": "9SqpkmRXhm0k"
      },
      "execution_count": 51,
      "outputs": []
    }
  ]
}
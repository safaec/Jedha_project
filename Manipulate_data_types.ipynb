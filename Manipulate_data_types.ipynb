{
  "cells": [
    {
      "cell_type": "markdown",
      "metadata": {
        "id": "view-in-github",
        "colab_type": "text"
      },
      "source": [
        "<a href=\"https://colab.research.google.com/github/safaec/Jedha_project/blob/main/Manipulate_data_types.ipynb\" target=\"_parent\"><img src=\"https://colab.research.google.com/assets/colab-badge.svg\" alt=\"Open In Colab\"/></a>"
      ]
    },
    {
      "cell_type": "markdown",
      "metadata": {
        "id": "kFGKKN4vbaaE"
      },
      "source": [
        "# Lists"
      ]
    },
    {
      "cell_type": "code",
      "execution_count": 1,
      "metadata": {
        "id": "RnQP07OQbJZy"
      },
      "outputs": [],
      "source": [
        "#Store this list in a variable we'll call michel\n",
        "michel = [\"Hello\", \"I\", \"Michel\", \"am\"]"
      ]
    },
    {
      "cell_type": "code",
      "source": [
        "#Make a loop so that the console returns each of the items in the list\n",
        "for i in michel:\n",
        "  print(i)"
      ],
      "metadata": {
        "colab": {
          "base_uri": "https://localhost:8080/"
        },
        "id": "ClcLpcox_4cb",
        "outputId": "549b95ba-a6b6-4c0a-d305-0f19b7192965"
      },
      "execution_count": 2,
      "outputs": [
        {
          "output_type": "stream",
          "name": "stdout",
          "text": [
            "Hello\n",
            "I\n",
            "Michel\n",
            "am\n"
          ]
        }
      ]
    },
    {
      "cell_type": "markdown",
      "metadata": {
        "id": "xiFEi_IIbs7l"
      },
      "source": [
        "We have a problem with this sentence, two words are reversed. Find a way to invert the last item with the next-to-last item..."
      ]
    },
    {
      "cell_type": "code",
      "execution_count": 7,
      "metadata": {
        "colab": {
          "base_uri": "https://localhost:8080/"
        },
        "id": "fBz1VsYDbv-m",
        "outputId": "3e2cef38-72e4-4afe-ecb8-f6cba6424be5"
      },
      "outputs": [
        {
          "output_type": "execute_result",
          "data": {
            "text/plain": [
              "['Hello', 'I', 'am', 'Michel']"
            ]
          },
          "metadata": {},
          "execution_count": 7
        }
      ],
      "source": [
        "michel[2],michel[3] = michel[3], michel[2]\n",
        "michel"
      ]
    },
    {
      "cell_type": "markdown",
      "source": [
        "Here's a list of ages: [12, 16, 34, 58, 9]."
      ],
      "metadata": {
        "id": "NXwRVCWDBcNG"
      }
    },
    {
      "cell_type": "code",
      "source": [
        "#Store this age list in a variable that we'll call: \n",
        "age=[12, 16, 34, 58, 9]"
      ],
      "metadata": {
        "id": "Vvd4a_bpA_8q"
      },
      "execution_count": 8,
      "outputs": []
    },
    {
      "cell_type": "code",
      "execution_count": 10,
      "metadata": {
        "colab": {
          "base_uri": "https://localhost:8080/"
        },
        "id": "vRrlfGsQb0TA",
        "outputId": "74421b01-25e5-46dc-be00-66df59509bc9"
      },
      "outputs": [
        {
          "output_type": "execute_result",
          "data": {
            "text/plain": [
              "[9, 12, 16, 34, 58]"
            ]
          },
          "metadata": {},
          "execution_count": 10
        }
      ],
      "source": [
        "#We would like this list to be arranged in ascending order, how do we do that?\n",
        "age.sort()\n",
        "age"
      ]
    },
    {
      "cell_type": "markdown",
      "metadata": {
        "id": "hyAAuD2-fFMD"
      },
      "source": [
        "# Dictionaries"
      ]
    },
    {
      "cell_type": "code",
      "source": [
        "import requests\n",
        "request = requests.get(\"https://swapi.dev/api/people/1/\")\n",
        "dic = request.json()"
      ],
      "metadata": {
        "id": "bIuQZGdLCUd3"
      },
      "execution_count": 29,
      "outputs": []
    },
    {
      "cell_type": "markdown",
      "source": [
        "3. See what's in the dictionary via a loop"
      ],
      "metadata": {
        "id": "4SSKifyoDXj8"
      }
    },
    {
      "cell_type": "code",
      "source": [
        "for key in dic.keys():\n",
        "  print(key)"
      ],
      "metadata": {
        "colab": {
          "base_uri": "https://localhost:8080/"
        },
        "id": "wL1w6PsfCWez",
        "outputId": "fece16fc-2195-4963-ee88-844e3c73abec"
      },
      "execution_count": 14,
      "outputs": [
        {
          "output_type": "stream",
          "name": "stdout",
          "text": [
            "name\n",
            "height\n",
            "mass\n",
            "hair_color\n",
            "skin_color\n",
            "eye_color\n",
            "birth_year\n",
            "gender\n",
            "homeworld\n",
            "films\n",
            "species\n",
            "vehicles\n",
            "starships\n",
            "created\n",
            "edited\n",
            "url\n"
          ]
        }
      ]
    },
    {
      "cell_type": "code",
      "execution_count": 15,
      "metadata": {
        "colab": {
          "base_uri": "https://localhost:8080/"
        },
        "id": "Ef9wS-ule6Rs",
        "outputId": "abb1d5bc-bdee-4294-847a-a2ed5776a43f"
      },
      "outputs": [
        {
          "output_type": "stream",
          "name": "stdout",
          "text": [
            "Luke Skywalker\n",
            "172\n",
            "77\n",
            "blond\n",
            "fair\n",
            "blue\n",
            "19BBY\n",
            "male\n",
            "https://swapi.dev/api/planets/1/\n",
            "['https://swapi.dev/api/films/1/', 'https://swapi.dev/api/films/2/', 'https://swapi.dev/api/films/3/', 'https://swapi.dev/api/films/6/']\n",
            "[]\n",
            "['https://swapi.dev/api/vehicles/14/', 'https://swapi.dev/api/vehicles/30/']\n",
            "['https://swapi.dev/api/starships/12/', 'https://swapi.dev/api/starships/22/']\n",
            "2014-12-09T13:50:51.644000Z\n",
            "2014-12-20T21:17:56.891000Z\n",
            "https://swapi.dev/api/people/1/\n"
          ]
        }
      ],
      "source": [
        "for value in dic.values():\n",
        "  print(value)"
      ]
    },
    {
      "cell_type": "code",
      "source": [
        "for item in dic.items():\n",
        "  print(item)"
      ],
      "metadata": {
        "colab": {
          "base_uri": "https://localhost:8080/"
        },
        "id": "GYrg72yWC9KE",
        "outputId": "c83d9790-710a-42b8-a610-d7edde1428d2"
      },
      "execution_count": 16,
      "outputs": [
        {
          "output_type": "stream",
          "name": "stdout",
          "text": [
            "('name', 'Luke Skywalker')\n",
            "('height', '172')\n",
            "('mass', '77')\n",
            "('hair_color', 'blond')\n",
            "('skin_color', 'fair')\n",
            "('eye_color', 'blue')\n",
            "('birth_year', '19BBY')\n",
            "('gender', 'male')\n",
            "('homeworld', 'https://swapi.dev/api/planets/1/')\n",
            "('films', ['https://swapi.dev/api/films/1/', 'https://swapi.dev/api/films/2/', 'https://swapi.dev/api/films/3/', 'https://swapi.dev/api/films/6/'])\n",
            "('species', [])\n",
            "('vehicles', ['https://swapi.dev/api/vehicles/14/', 'https://swapi.dev/api/vehicles/30/'])\n",
            "('starships', ['https://swapi.dev/api/starships/12/', 'https://swapi.dev/api/starships/22/'])\n",
            "('created', '2014-12-09T13:50:51.644000Z')\n",
            "('edited', '2014-12-20T21:17:56.891000Z')\n",
            "('url', 'https://swapi.dev/api/people/1/')\n"
          ]
        }
      ]
    },
    {
      "cell_type": "code",
      "source": [
        "print(\"{} is {} cm tall and weighs {} kg. She was born in {}.\".format(dic['name'], dic['height'], dic['mass'], dic['birth_year']))"
      ],
      "metadata": {
        "colab": {
          "base_uri": "https://localhost:8080/"
        },
        "id": "-HiYzr0oDolp",
        "outputId": "53cd1846-4cc4-4fc8-af18-9309494f9530"
      },
      "execution_count": 31,
      "outputs": [
        {
          "output_type": "stream",
          "name": "stdout",
          "text": [
            "Luke Skywalker is 172 cm tall and weighs 77 kg. She was born in 19BBY.\n"
          ]
        }
      ]
    },
    {
      "cell_type": "markdown",
      "metadata": {
        "id": "aQsKk1BKg4Mt"
      },
      "source": [
        "# Slices"
      ]
    },
    {
      "cell_type": "markdown",
      "metadata": {
        "id": "0PIM5zcfg94N"
      },
      "source": [
        " We have the following dataset: ` kilometres_travelled = [50, 10, 100, 25, 1000, 21, 12,30]`\n",
        " \n",
        "    1. This variable represents a list of kilometres travelled every morning by 8 users to work.\n",
        "    2. Using a loop, calculate the total average of all the users' trips"
      ]
    },
    {
      "cell_type": "code",
      "source": [
        "kilometres_travelled = [50, 10, 100, 25, 1000, 21, 12,30]"
      ],
      "metadata": {
        "id": "Ue7wS5m4KEKY"
      },
      "execution_count": 32,
      "outputs": []
    },
    {
      "cell_type": "code",
      "source": [
        "list_lenght = len(kilometres_travelled)\n",
        "sum_km = 0\n",
        "\n",
        "for km in kilometres_travelled:\n",
        "  sum_km +=km\n",
        "\n",
        "average_km = sum_km / list_lenght\n",
        "\n",
        "print('On average, users travelled {} km to get to work.'.format(average_km))"
      ],
      "metadata": {
        "colab": {
          "base_uri": "https://localhost:8080/"
        },
        "id": "E_wVSdbTKVc9",
        "outputId": "090d7632-9669-47e8-bd1c-b94be7964367"
      },
      "execution_count": 33,
      "outputs": [
        {
          "output_type": "stream",
          "name": "stdout",
          "text": [
            "On average, users travelled 156.0 km to get to work.\n"
          ]
        }
      ]
    }
  ],
  "metadata": {
    "colab": {
      "provenance": [],
      "include_colab_link": true
    },
    "kernelspec": {
      "display_name": "Python 3",
      "language": "python",
      "name": "python3"
    },
    "language_info": {
      "codemirror_mode": {
        "name": "ipython",
        "version": 3
      },
      "file_extension": ".py",
      "mimetype": "text/x-python",
      "name": "python",
      "nbconvert_exporter": "python",
      "pygments_lexer": "ipython3",
      "version": "3.7.3-final"
    }
  },
  "nbformat": 4,
  "nbformat_minor": 0
}
{
  "cells": [
    {
      "cell_type": "markdown",
      "metadata": {
        "id": "view-in-github",
        "colab_type": "text"
      },
      "source": [
        "<a href=\"https://colab.research.google.com/github/safaec/Jedha_project/blob/main/Rebuild_a_quiz.ipynb\" target=\"_parent\"><img src=\"https://colab.research.google.com/assets/colab-badge.svg\" alt=\"Open In Colab\"/></a>"
      ]
    },
    {
      "cell_type": "markdown",
      "metadata": {
        "id": "C67z2zFvULxg"
      },
      "source": [
        "# Build a quiz - Part 2"
      ]
    },
    {
      "cell_type": "markdown",
      "metadata": {
        "id": "8yj3b2e2ULxm"
      },
      "source": [
        "\n",
        "Below is the code we wrote yesterday, that asks three questions to the user and allows up to 3 wrong answers :"
      ]
    },
    {
      "cell_type": "code",
      "source": [
        "class Quiz:\n",
        "\n",
        "  def __init__ (self, nb_de_chances=3):\n",
        "    self.nb_de_chances = nb_de_chances\n",
        "    self.questions = { \"Combien de fois la France a gagné la coupe du monde ?\": \"2\",\n",
        "            \"Quand a été fondé Apple ?\": \"1976\",\n",
        "            \"Qui a fondé SpaceX ?\": \"elon musk\"}\n",
        "\n",
        "    \n",
        "  def ques (self):\n",
        "    for question, answer in self.questions.items():\n",
        "        if self.nb_de_chances == 0:\n",
        "          break\n",
        "        reponse = input(question)\n",
        "        while reponse != answer:\n",
        "            self.nb_de_chances -= 1\n",
        "            print(\"Dommage ! Il te reste {} chances\".format(self.nb_de_chances))\n",
        "            if self.nb_de_chances == 0:\n",
        "                print(\"Oh non ! Tu as perdu le jeu...\")\n",
        "                break\n",
        "            reponse = input(question)\n",
        "    print(\"Bravo ! Tu as gagné le quiz !\")"
      ],
      "metadata": {
        "id": "Olfxx_ZJUOkv"
      },
      "execution_count": 43,
      "outputs": []
    },
    {
      "cell_type": "code",
      "source": [
        "q=Quiz()\n",
        "q.ques()"
      ],
      "metadata": {
        "colab": {
          "base_uri": "https://localhost:8080/"
        },
        "id": "d6xPdASvXB_P",
        "outputId": "a09039e3-9756-433a-ce63-9b2f50662a99"
      },
      "execution_count": 44,
      "outputs": [
        {
          "output_type": "stream",
          "name": "stdout",
          "text": [
            "Combien de fois la France a gagné la coupe du monde ?j\n",
            "Dommage ! Il te reste 2 chances\n",
            "Combien de fois la France a gagné la coupe du monde ?o\n",
            "Dommage ! Il te reste 1 chances\n",
            "Combien de fois la France a gagné la coupe du monde ?j\n",
            "Dommage ! Il te reste 0 chances\n",
            "Oh non ! Tu as perdu le jeu...\n"
          ]
        }
      ]
    },
    {
      "cell_type": "markdown",
      "metadata": {
        "id": "U10K6YQMULxr"
      },
      "source": [
        "Let's refactor our quiz now that we know how to be dry.\n",
        "\n",
        "SPECs: \n",
        "\n",
        "* Your code should be DRY \n",
        "* You should use functions "
      ]
    }
  ],
  "metadata": {
    "language_info": {
      "name": "python"
    },
    "orig_nbformat": 2,
    "colab": {
      "provenance": [],
      "include_colab_link": true
    },
    "kernelspec": {
      "name": "python3",
      "display_name": "Python 3"
    },
    "gpuClass": "standard"
  },
  "nbformat": 4,
  "nbformat_minor": 0
}